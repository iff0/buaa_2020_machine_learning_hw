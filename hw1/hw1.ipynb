{
 "cells": [
  {
   "cell_type": "code",
   "execution_count": 15,
   "metadata": {
    "collapsed": true,
    "pycharm": {
     "is_executing": false
    }
   },
   "outputs": [],
   "source": [
    "import os\n",
    "import numpy as np\n",
    "import seaborn as sns\n",
    "import torch\n",
    "import torch.nn.functional as F\n",
    "from cnn import Cnn\n",
    "import torch.nn as nn\n",
    "import matplotlib.pyplot as plt\n",
    "import pandas as pd\n",
    "from PIL import Image as pil\n",
    "%matplotlib inline\n",
    "color_b = sns.color_palette(\"Blues_r\")\n",
    "# Seaborn's palette for drawing charts\n",
    "img_saving = False\n",
    "# (DEBUG) whether to save the drawn picture.."
   ]
  },
  {
   "cell_type": "code",
   "execution_count": 16,
   "outputs": [
    {
     "name": "stdout",
     "text": [
      "Now using: GeForce GTX 1050 Ti\n",
      "Device name: cuda:0\n"
     ],
     "output_type": "stream"
    }
   ],
   "source": [
    "if torch.cuda.is_available():\n",
    "    print('Now using:', torch.cuda.get_device_name(0))\n",
    "device = torch.device(\"cuda:0\" if torch.cuda.is_available() else \"cpu\")\n",
    "# \n",
    "print('Device name:', device)"
   ],
   "metadata": {
    "collapsed": false,
    "pycharm": {
     "name": "#%%\n",
     "is_executing": false
    }
   }
  },
  {
   "cell_type": "code",
   "execution_count": 17,
   "outputs": [],
   "source": [
    "class Loader():\n",
    "    def __init__(self, data: np.ndarray, bsz: int, label=None):\n",
    "        self.data = data\n",
    "        self.bsz = bsz\n",
    "        self.p = 0\n",
    "        self.label = label\n",
    "    \n",
    "    def __iter__(self):\n",
    "        self.p = 0\n",
    "        return self\n",
    "    \n",
    "    def __next__(self):\n",
    "        if self.p >= self.data.shape[0]:\n",
    "            raise StopIteration\n",
    "        else:\n",
    "            pp = min(self.data.shape[0], self.p + self.bsz)\n",
    "            r1 = self.data[self.p: pp]\n",
    "            if self.label is None:\n",
    "                self.p = pp\n",
    "                return r1\n",
    "            else:\n",
    "                r2 = self.label[self.p: pp]\n",
    "                self.p = pp\n",
    "                return (r1, r2)\n",
    "    def __len__(self):\n",
    "        return self.data.shape[0]"
   ],
   "metadata": {
    "collapsed": false,
    "pycharm": {
     "name": "#%%\n",
     "is_executing": false
    }
   }
  },
  {
   "cell_type": "code",
   "execution_count": 18,
   "outputs": [
    {
     "name": "stdout",
     "text": [
      "(28708, 48, 48)\n",
      "(28708, 1)\n"
     ],
     "output_type": "stream"
    },
    {
     "data": {
      "text/plain": "<Figure size 432x432 with 1 Axes>",
      "image/png": "[encoded data removed]"
     },
     "metadata": {},
     "output_type": "display_data"
    }
   ],
   "source": [
    "catyDict = {\n",
    "    'angry': 0,\n",
    "    'disgust': 1,\n",
    "    'fear': 2,\n",
    "    'happy': 3,\n",
    "    'neutral': 4,\n",
    "    'sad': 5,\n",
    "    'surprise': 6\n",
    "}\n",
    "\n",
    "train_x = np.zeros((0, 48, 48))\n",
    "train_y = np.zeros((0, 1))\n",
    "train_path = 'train'\n",
    "caty_ns = []\n",
    "for c in catyDict:\n",
    "    asy = os.listdir(os.path.join(train_path, c))\n",
    "    maty = np.zeros((len(asy), 48, 48))\n",
    "    for (ind, i) in enumerate(asy):\n",
    "        x = np.asarray(pil.open(os.path.join(train_path, c, i))).copy()\n",
    "        if x.std() > 1:\n",
    "            x= (x - x.mean()) / x.std()\n",
    "        maty[ind, :, :] = x\n",
    "    train_x = np.vstack((train_x, maty))\n",
    "    train_y = np.vstack((train_y, np.full((maty.shape[0], 1), catyDict[c])))\n",
    "    caty_ns.append(maty.shape[0])\n",
    "print(train_x.shape)\n",
    "print(train_y.shape)\n",
    "plt.figure(figsize=(6, 6))\n",
    "plt.pie(caty_ns, colors=color_b[0 : 7],\n",
    "        labels=[c for c in catyDict.keys()],\n",
    "        autopct='%.2f%%')\n",
    "plt.title('Data labeling pie chart')\n",
    "if img_saving:\n",
    "    plt.savefig('1_1.png', bbox_inches='tight')\n",
    "#plt.show()\n",
    "#print(apic.size)"
   ],
   "metadata": {
    "collapsed": false,
    "pycharm": {
     "name": "#%%\n",
     "is_executing": false
    }
   }
  },
  {
   "cell_type": "code",
   "execution_count": 19,
   "outputs": [
    {
     "name": "stdout",
     "text": [
      "[[[-1.09612274 -1.44844517 -1.78119414 ...  0.52847516  0.88079759\n",
      "   -0.39147787]\n",
      "  [-0.95910846 -1.40929824 -1.64417986 ...  0.6263425   0.88079759\n",
      "   -0.33275746]\n",
      "  [-0.88081458 -1.48759211 -1.60503292 ...  0.70463638  0.84165066\n",
      "   -0.33275746]\n",
      "  ...\n",
      "  [-0.0587289  -0.11744931 -0.11744931 ...  0.84165066 -0.03915543\n",
      "   -0.41105134]\n",
      "  [ 0.01956497  0.09785885  0.13700578 ...  0.88079759  0.27402007\n",
      "   -0.39147787]\n",
      "  [-0.03915543 -0.03915543  0.11743232 ...  0.72420984  0.58719556\n",
      "   -0.45019827]]]\n",
      "[25242 19859 20081 ... 23415 14513 20076]\n"
     ],
     "output_type": "stream"
    },
    {
     "data": {
      "text/plain": "<matplotlib.image.AxesImage at 0x1f5779c16d0>"
     },
     "metadata": {},
     "output_type": "execute_result",
     "execution_count": 19
    },
    {
     "data": {
      "text/plain": "<Figure size 432x288 with 1 Axes>",
      "image/png": "[encoded data removed]"
     },
     "metadata": {
      "needs_background": "light"
     },
     "output_type": "display_data"
    },
    {
     "data": {
      "text/plain": "<Figure size 432x288 with 1 Axes>",
      "image/png": "[encoded data removed]"
     },
     "metadata": {
      "needs_background": "light"
     },
     "output_type": "display_data"
    }
   ],
   "source": [
    "train_x = np.expand_dims(train_x, axis=1)\n",
    "print(train_x[0])\n",
    "plt.imshow(train_x[0][0])\n",
    "per = np.random.permutation(train_x.shape[0])\t\t#打乱后的行号\n",
    "rtrain_x = torch.from_numpy(train_x[per])\n",
    "rtrain_y = torch.from_numpy(train_y[per]).squeeze()\n",
    "print(per)\n",
    "plt.figure()\n",
    "plt.imshow(rtrain_x[0][0])"
   ],
   "metadata": {
    "collapsed": false,
    "pycharm": {
     "name": "#%%\n",
     "is_executing": false
    }
   }
  },
  {
   "cell_type": "code",
   "execution_count": 20,
   "outputs": [
    {
     "name": "stdout",
     "text": [
      "Cnn(\n",
      "  (conv1): Conv2d(1, 32, kernel_size=(5, 5), stride=(1, 1), padding=(2, 2))\n",
      "  (conv3): Conv2d(32, 32, kernel_size=(3, 3), stride=(1, 1), padding=(1, 1))\n",
      "  (conv5): Conv2d(32, 64, kernel_size=(3, 3), stride=(1, 1), padding=(1, 1))\n",
      "  (conv6): Conv2d(64, 96, kernel_size=(3, 3), stride=(1, 1), padding=(1, 1))\n",
      "  (conv7): Conv2d(96, 128, kernel_size=(3, 3), stride=(1, 1), padding=(1, 1))\n",
      "  (bn1): BatchNorm2d(32, eps=1e-05, momentum=0.1, affine=True, track_running_stats=True)\n",
      "  (bn2): BatchNorm2d(16, eps=1e-05, momentum=0.1, affine=True, track_running_stats=True)\n",
      "  (bn3): BatchNorm2d(32, eps=1e-05, momentum=0.1, affine=True, track_running_stats=True)\n",
      "  (bn4): BatchNorm2d(36, eps=1e-05, momentum=0.1, affine=True, track_running_stats=True)\n",
      "  (bn5): BatchNorm2d(64, eps=1e-05, momentum=0.1, affine=True, track_running_stats=True)\n",
      "  (bn6): BatchNorm2d(96, eps=1e-05, momentum=0.1, affine=True, track_running_stats=True)\n",
      "  (bn7): BatchNorm2d(128, eps=1e-05, momentum=0.1, affine=True, track_running_stats=True)\n",
      "  (lina1): Linear(in_features=4608, out_features=1024, bias=True)\n",
      "  (lina3): Linear(in_features=1024, out_features=7, bias=True)\n",
      "  (drop1): Dropout(p=0.4, inplace=False)\n",
      "  (drop2): Dropout(p=0.25, inplace=False)\n",
      ")\n",
      "graph(%input : Float(1:2304, 1:2304, 48:48, 48:1, requires_grad=0, device=cuda:0),\n",
      "      %lina1.weight : Float(1024:4608, 4608:1, requires_grad=1, device=cuda:0),\n",
      "      %lina1.bias : Float(1024:1, requires_grad=1, device=cuda:0),\n",
      "      %lina3.weight : Float(7:1024, 1024:1, requires_grad=1, device=cuda:0),\n",
      "      %lina3.bias : Float(7:1, requires_grad=1, device=cuda:0),\n",
      "      %81 : Float(32:25, 1:25, 5:5, 5:1, requires_grad=0, device=cuda:0),\n",
      "      %82 : Float(32:1, requires_grad=0, device=cuda:0),\n",
      "      %84 : Float(32:288, 32:9, 3:3, 3:1, requires_grad=0, device=cuda:0),\n",
      "      %85 : Float(32:1, requires_grad=0, device=cuda:0),\n",
      "      %87 : Float(64:288, 32:9, 3:3, 3:1, requires_grad=0, device=cuda:0),\n",
      "      %88 : Float(64:1, requires_grad=0, device=cuda:0),\n",
      "      %90 : Float(96:576, 64:9, 3:3, 3:1, requires_grad=0, device=cuda:0),\n",
      "      %91 : Float(96:1, requires_grad=0, device=cuda:0),\n",
      "      %93 : Float(128:864, 96:9, 3:3, 3:1, requires_grad=0, device=cuda:0),\n",
      "      %94 : Float(128:1, requires_grad=0, device=cuda:0),\n",
      "      %95 : Long(1:1, requires_grad=0, device=cpu)):\n",
      "  %80 : Float(1:73728, 32:2304, 48:48, 48:1, requires_grad=1, device=cuda:0) = onnx::Conv[dilations=[1, 1], group=1, kernel_shape=[5, 5], pads=[2, 2, 2, 2], strides=[1, 1]](%input, %81, %82)\n",
      "  %52 : Float(1:73728, 32:2304, 48:48, 48:1, requires_grad=1, device=cuda:0) = onnx::Relu(%80) # e:\\python\\lib\\site-packages\\torch\\nn\\functional.py:1136:0\n",
      "  %53 : Float(1:18432, 32:576, 24:24, 24:1, requires_grad=1, device=cuda:0) = onnx::MaxPool[kernel_shape=[2, 2], pads=[0, 0, 0, 0], strides=[2, 2]](%52) # e:\\python\\lib\\site-packages\\torch\\nn\\functional.py:585:0\n",
      "  %83 : Float(1:18432, 32:576, 24:24, 24:1, requires_grad=1, device=cuda:0) = onnx::Conv[dilations=[1, 1], group=1, kernel_shape=[3, 3], pads=[1, 1, 1, 1], strides=[1, 1]](%53, %84, %85)\n",
      "  %56 : Float(1:18432, 32:576, 24:24, 24:1, requires_grad=1, device=cuda:0) = onnx::Relu(%83) # e:\\python\\lib\\site-packages\\torch\\nn\\functional.py:1136:0\n",
      "  %57 : Float(1:4608, 32:144, 12:12, 12:1, requires_grad=1, device=cuda:0) = onnx::MaxPool[kernel_shape=[2, 2], pads=[0, 0, 0, 0], strides=[2, 2]](%56) # e:\\python\\lib\\site-packages\\torch\\nn\\functional.py:585:0\n",
      "  %86 : Float(1:9216, 64:144, 12:12, 12:1, requires_grad=1, device=cuda:0) = onnx::Conv[dilations=[1, 1], group=1, kernel_shape=[3, 3], pads=[1, 1, 1, 1], strides=[1, 1]](%57, %87, %88)\n",
      "  %60 : Float(1:9216, 64:144, 12:12, 12:1, requires_grad=1, device=cuda:0) = onnx::Relu(%86) # e:\\python\\lib\\site-packages\\torch\\nn\\functional.py:1136:0\n",
      "  %89 : Float(1:13824, 96:144, 12:12, 12:1, requires_grad=1, device=cuda:0) = onnx::Conv[dilations=[1, 1], group=1, kernel_shape=[3, 3], pads=[1, 1, 1, 1], strides=[1, 1]](%60, %90, %91)\n",
      "  %63 : Float(1:13824, 96:144, 12:12, 12:1, requires_grad=1, device=cuda:0) = onnx::Relu(%89) # e:\\python\\lib\\site-packages\\torch\\nn\\functional.py:1136:0\n",
      "  %64 : Float(1:3456, 96:36, 6:6, 6:1, requires_grad=1, device=cuda:0) = onnx::MaxPool[kernel_shape=[2, 2], pads=[0, 0, 0, 0], strides=[2, 2]](%63) # e:\\python\\lib\\site-packages\\torch\\nn\\functional.py:585:0\n",
      "  %92 : Float(1:4608, 128:36, 6:6, 6:1, requires_grad=1, device=cuda:0) = onnx::Conv[dilations=[1, 1], group=1, kernel_shape=[3, 3], pads=[1, 1, 1, 1], strides=[1, 1]](%64, %93, %94)\n",
      "  %67 : Float(1:4608, 128:36, 6:6, 6:1, requires_grad=1, device=cuda:0) = onnx::Relu(%92) # e:\\python\\lib\\site-packages\\torch\\nn\\functional.py:1136:0\n",
      "  %68 : Tensor = onnx::Shape(%67)\n",
      "  %69 : Tensor = onnx::Constant[value={0}]()\n",
      "  %70 : Long(device=cpu) = onnx::Gather[axis=0](%68, %69) # F:\\BUAA\\machine_learning\\hw1\\cnn.py:39:0\n",
      "  %72 : Tensor = onnx::Unsqueeze[axes=[0]](%70)\n",
      "  %74 : Tensor = onnx::Concat[axis=0](%72, %95)\n",
      "  %75 : Float(1:4608, 4608:1, requires_grad=1, device=cuda:0) = onnx::Reshape(%67, %74) # F:\\BUAA\\machine_learning\\hw1\\cnn.py:39:0\n",
      "  %76 : Float(1:1024, 1024:1, requires_grad=1, device=cuda:0) = onnx::Gemm[alpha=1., beta=1., transB=1](%75, %lina1.weight, %lina1.bias) # e:\\python\\lib\\site-packages\\torch\\nn\\functional.py:1690:0\n",
      "  %77 : Float(1:1024, 1024:1, requires_grad=1, device=cuda:0) = onnx::Relu(%76) # e:\\python\\lib\\site-packages\\torch\\nn\\functional.py:983:0\n",
      "  %78 : Float(1:7, 7:1, requires_grad=1, device=cuda:0) = onnx::Gemm[alpha=1., beta=1., transB=1](%77, %lina3.weight, %lina3.bias) # e:\\python\\lib\\site-packages\\torch\\nn\\functional.py:1690:0\n",
      "  %output : Float(1:7, 7:1, requires_grad=1, device=cuda:0) = onnx::Softmax[axis=1](%78) # e:\\python\\lib\\site-packages\\torch\\nn\\functional.py:1512:0\n",
      "  return (%output)\n",
      "\n"
     ],
     "output_type": "stream"
    }
   ],
   "source": [
    "cnn = Cnn()\n",
    "cnn.to(device)\n",
    "print(cnn)\n",
    "dummy_input = torch.randn(1, 1, 48, 48, device=device)\n",
    "torch.onnx.export(cnn, dummy_input, \"convnet.onnx\", verbose=True, input_names=['input'], output_names=['output'])"
   ],
   "metadata": {
    "collapsed": false,
    "pycharm": {
     "name": "#%%\n",
     "is_executing": false
    }
   }
  },
  {
   "cell_type": "code",
   "execution_count": 21,
   "outputs": [
    {
     "name": "stdout",
     "text": [
      "epoches: 0\n",
      " 99 %\n",
      "epoches: 1\n",
      " 99 %\n",
      "epoches: 2\n",
      " 99 %\n",
      "epoches: 3\n",
      " 99 %\n",
      "epoches: 4\n",
      " 99 %73 %\n",
      "epoches: 5\n",
      " 99 %\n",
      "epoches: 6\n",
      " 99 %\n",
      "epoches: 7\n",
      " 99 %\n",
      "epoches: 8\n",
      " 99 %\n",
      "epoches: 9\n",
      " 99 % %10 %75 %\n",
      "epoches: 10\n",
      " 99 %\n",
      "epoches: 11\n",
      " 99 %\n",
      "epoches: 12\n",
      " 99 %\n",
      "epoches: 13\n",
      " 99 %\n",
      "epoches: 14\n",
      " 99 %\n",
      "epoches: 15\n",
      " 99 %\n",
      "epoches: 16\n",
      " 99 %\n",
      "epoches: 17\n",
      " 99 %\n",
      "epoches: 18\n",
      " 99 %\n",
      "epoches: 19\n",
      " 99 %\n",
      "epoches: 20\n",
      " 99 %\n",
      "epoches: 21\n",
      " 99 %\n",
      "epoches: 22\n",
      " 99 %\n",
      "epoches: 23\n",
      " 99 %\n",
      "accuary 78.52514978403232 %\n",
      "Cnn(\n",
      "  (conv1): Conv2d(1, 32, kernel_size=(5, 5), stride=(1, 1), padding=(2, 2))\n",
      "  (conv3): Conv2d(32, 32, kernel_size=(3, 3), stride=(1, 1), padding=(1, 1))\n",
      "  (conv5): Conv2d(32, 64, kernel_size=(3, 3), stride=(1, 1), padding=(1, 1))\n",
      "  (conv6): Conv2d(64, 96, kernel_size=(3, 3), stride=(1, 1), padding=(1, 1))\n",
      "  (conv7): Conv2d(96, 128, kernel_size=(3, 3), stride=(1, 1), padding=(1, 1))\n",
      "  (bn1): BatchNorm2d(32, eps=1e-05, momentum=0.1, affine=True, track_running_stats=True)\n",
      "  (bn2): BatchNorm2d(16, eps=1e-05, momentum=0.1, affine=True, track_running_stats=True)\n",
      "  (bn3): BatchNorm2d(32, eps=1e-05, momentum=0.1, affine=True, track_running_stats=True)\n",
      "  (bn4): BatchNorm2d(36, eps=1e-05, momentum=0.1, affine=True, track_running_stats=True)\n",
      "  (bn5): BatchNorm2d(64, eps=1e-05, momentum=0.1, affine=True, track_running_stats=True)\n",
      "  (bn6): BatchNorm2d(96, eps=1e-05, momentum=0.1, affine=True, track_running_stats=True)\n",
      "  (bn7): BatchNorm2d(128, eps=1e-05, momentum=0.1, affine=True, track_running_stats=True)\n",
      "  (lina1): Linear(in_features=4608, out_features=1024, bias=True)\n",
      "  (lina3): Linear(in_features=1024, out_features=7, bias=True)\n",
      "  (drop1): Dropout(p=0.4, inplace=False)\n",
      "  (drop2): Dropout(p=0.25, inplace=False)\n",
      ")\n",
      "                  file_name    class\n",
      "0   PublicTest_23168745.jpg      sad\n",
      "1  PrivateTest_27353025.jpg     fear\n",
      "2  PrivateTest_45144753.jpg  neutral\n",
      "3   PublicTest_15723362.jpg  neutral\n",
      "4   PublicTest_36186792.jpg    happy\n",
      "0 PublicTest_23168745.jpg\n",
      "1000 PublicTest_58713171.jpg\n",
      "2000 PublicTest_27969637.jpg\n",
      "3000 PrivateTest_88971417.jpg\n",
      "4000 PrivateTest_33970283.jpg\n",
      "5000 PublicTest_60781650.jpg\n",
      "6000 PublicTest_57762304.jpg\n",
      "7000 PublicTest_71379924.jpg\n",
      "happy       1920\n",
      "sad         1341\n",
      "neutral     1225\n",
      "fear        1015\n",
      "angry        940\n",
      "surprise     737\n",
      "Name: class, dtype: int64\n"
     ],
     "output_type": "stream"
    },
    {
     "name": "stderr",
     "text": [
      "<ipython-input-21-55bb099ba278>:60: RuntimeWarning: invalid value encountered in true_divide\n",
      "  x = (x - x.mean()) / x.std()\n"
     ],
     "output_type": "stream"
    }
   ],
   "source": [
    "learn_rate = 3e-4\n",
    "los = nn.CrossEntropyLoss()\n",
    "loader = Loader(rtrain_x, 64, label=rtrain_y)\n",
    "optim = torch.optim.Adam(cnn.parameters(), lr=learn_rate)\n",
    "for ep in range(24):\n",
    "    print('epoches: %d' % ep)\n",
    "    for i, (x, y) in enumerate(loader):\n",
    "        optim.zero_grad()\n",
    "        x = x.to(device, dtype=torch.float)\n",
    "        #print(x.shape)\n",
    "        y = y.to(device, dtype=torch.long)\n",
    "        #print(y)\n",
    "        outt = cnn(x)\n",
    "        loss = los(outt, y)\n",
    "        #print(loss)\n",
    "        loss.backward()\n",
    "        optim.step()\n",
    "        if (i + 1) % (int(len(loader) / loader.bsz / 100)) == 0:\n",
    "            print('\\r', '%d %%' % ((i + 1) / (len(loader) / loader.bsz ) * 100), end=\"\", flush=True)\n",
    "    \n",
    "    print('')\n",
    "    #acc = torch.Tensor([0.]).squeeze().to(device)\n",
    "    #for i, (x, y) in enumerate(loader):\n",
    "     #   o = cnn(x.to(device, dtype=torch.float))\n",
    "      #  add = torch.sum(torch.argmax(o, 1) == y.to(device, dtype=torch.long)).to(torch.float64)\n",
    "       # acc += add\n",
    "    #print('accuary', acc.cpu().numpy() / len(loader) * 100, '%')\n",
    "acc = torch.Tensor([0.]).squeeze().to(device)\n",
    "torch.cuda.empty_cache()\n",
    "# Clear cuda cache\n",
    "for i, (x, y) in enumerate(loader):\n",
    "    o = cnn(x.to(device, dtype=torch.float))\n",
    "    add = torch.sum(torch.argmax(o, 1) == y.to(device, dtype=torch.long)).to(torch.float64)\n",
    "    acc += add\n",
    "\n",
    "print('accuary', acc.cpu().numpy() / len(loader) * 100, '%')\n",
    "torch.save(cnn.state_dict(), 'convnet.pkl')\n",
    "#dummy_input = torch.randn(1, 1, 48, 48, device=device)\n",
    "#torch.onnx.export(cnn, dummy_input, \"convnet.onnx\", verbose=True, input_names=['input'], output_names=['output'])\n",
    "caty_dict_ = {\n",
    "    0: 'angry',\n",
    "    1: 'disgust',\n",
    "    2: 'fear',\n",
    "    3: 'happy',\n",
    "    4: 'neutral',\n",
    "    5: 'sad',\n",
    "    6: 'surprise'\n",
    "}\n",
    "cnn = Cnn()\n",
    "cnn.load_state_dict(torch.load('convnet.pkl'))\n",
    "print(cnn)\n",
    "test_dic = 'test'\n",
    "df = pd.read_csv('submission.csv')\n",
    "print(df.head())\n",
    "\n",
    "for i in range(df.shape[0]):\n",
    "\n",
    "    s = df['file_name'][i]\n",
    "    x = np.asarray(pil.open(os.path.join(test_dic, s)))\n",
    "    x = (x - x.mean()) / x.std()\n",
    "    x = np.expand_dims(np.expand_dims(x, axis=0), axis=0)\n",
    "    x = torch.from_numpy(x).to('cpu', dtype=torch.float)\n",
    "    df['class'][i] = caty_dict_[torch.argmax(cnn(x), 1).numpy()[0]]\n",
    "    if i % 1000 == 0:\n",
    "        print(i, s)\n",
    "print(df['class'].value_counts())\n",
    "df.to_csv('submission.csv', index=False)"
   ],
   "metadata": {
    "collapsed": false,
    "pycharm": {
     "name": "#%%\n",
     "is_executing": false
    }
   }
  }
 ],
 "metadata": {
  "kernelspec": {
   "display_name": "Python 3",
   "language": "python",
   "name": "python3"
  },
  "language_info": {
   "codemirror_mode": {
    "name": "ipython",
    "version": 2
   },
   "file_extension": ".py",
   "mimetype": "text/x-python",
   "name": "python",
   "nbconvert_exporter": "python",
   "pygments_lexer": "ipython2",
   "version": "2.7.6"
  },
  "pycharm": {
   "stem_cell": {
    "cell_type": "raw",
    "source": [],
    "metadata": {
     "collapsed": false
    }
   }
  }
 },
 "nbformat": 4,
 "nbformat_minor": 0
}